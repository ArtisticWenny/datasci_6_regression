{
  "nbformat": 4,
  "nbformat_minor": 0,
  "metadata": {
    "colab": {
      "provenance": [],
      "authorship_tag": "ABX9TyM2Swyl7JAFAO4hvZGFd5OF",
      "include_colab_link": true
    },
    "kernelspec": {
      "name": "python3",
      "display_name": "Python 3"
    },
    "language_info": {
      "name": "python"
    }
  },
  "cells": [
    {
      "cell_type": "markdown",
      "metadata": {
        "id": "view-in-github",
        "colab_type": "text"
      },
      "source": [
        "<a href=\"https://colab.research.google.com/github/ArtisticWenny/datasci_6_regression/blob/main/datasci_6_regression.ipynb\" target=\"_parent\"><img src=\"https://colab.research.google.com/assets/colab-badge.svg\" alt=\"Open In Colab\"/></a>"
      ]
    },
    {
      "cell_type": "code",
      "execution_count": 3,
      "metadata": {
        "id": "__oFyOc9WUGs"
      },
      "outputs": [],
      "source": [
        "import seaborn as sns\\n\n",
        "from scipy import stats\\n\n",
        "\\n\n",
        "from sklearn import linear_model\\n\n",
        "\\n\n",
        "from statsmodels.stats.diagnostic import linear_rainbow\\n\n",
        "from scipy.stats import shapiro\\n\n",
        "from statsmodels.stats.diagnostic import het_goldfeldquandt\\n\n",
        "from statsmodels.stats.outliers_influence import variance_inflation_factor\n",
        "from statsmodels.stats.outliers_influence import variance_inflation_factor\\n\n",
        "from statsmodels.stats.stattools import durbin_watson\n"
      ]
    },
    {
      "cell_type": "code",
      "source": [
        "from google.colab import drive\n",
        "\n",
        "drive.mount('/content/drive')"
      ],
      "metadata": {
        "colab": {
          "base_uri": "https://localhost:8080/"
        },
        "id": "U3XT_toSWWG6",
        "outputId": "ebba653c-2a7c-46ea-b12b-ebbc4793b4a2"
      },
      "execution_count": 4,
      "outputs": [
        {
          "output_type": "stream",
          "name": "stdout",
          "text": [
            "Mounted at /content/drive\n"
          ]
        }
      ]
    },
    {
      "cell_type": "code",
      "source": [
        "import pandas as pd\n",
        "\n",
        "csv_file_path = ['/content/drive/MyDrive/NYC_Collisions.csv']\n",
        "\n",
        "df = pd.read_csv('/content/drive/MyDrive/NYC_Collisions.csv')\n",
        "\n",
        "print(df.head)"
      ],
      "metadata": {
        "id": "hSRNL5_WWY73"
      },
      "execution_count": null,
      "outputs": []
    },
    {
      "cell_type": "code",
      "source": [
        "df.columns"
      ],
      "metadata": {
        "colab": {
          "base_uri": "https://localhost:8080/"
        },
        "id": "IteJG3fyihFE",
        "outputId": "df6d3efd-312f-42be-aca5-3409baac7c95"
      },
      "execution_count": 4,
      "outputs": [
        {
          "output_type": "execute_result",
          "data": {
            "text/plain": [
              "Index(['Collision ID', 'Date', 'Time', 'Borough', 'Street Name',\n",
              "       'Cross Street', 'Latitude', 'Longitude', 'Contributing Factor',\n",
              "       'Vehicle Type', 'Persons Injured', 'Persons Killed',\n",
              "       'Pedestrians Injured', 'Pedestrians Killed', 'Cyclists Injured',\n",
              "       'Cyclists Killed', 'Motorists Injured', 'Motorists Killed'],\n",
              "      dtype='object')"
            ]
          },
          "metadata": {},
          "execution_count": 4
        }
      ]
    },
    {
      "cell_type": "code",
      "source": [
        "df.dtypes"
      ],
      "metadata": {
        "colab": {
          "base_uri": "https://localhost:8080/"
        },
        "id": "12K097iyihzF",
        "outputId": "dbfd39fb-472f-4ae6-ac5f-9b2bb3c784d5"
      },
      "execution_count": 6,
      "outputs": [
        {
          "output_type": "execute_result",
          "data": {
            "text/plain": [
              "Collision ID             int64\n",
              "Date                    object\n",
              "Time                    object\n",
              "Borough                 object\n",
              "Street Name             object\n",
              "Cross Street            object\n",
              "Latitude               float64\n",
              "Longitude              float64\n",
              "Contributing Factor     object\n",
              "Vehicle Type            object\n",
              "Persons Injured        float64\n",
              "Persons Killed           int64\n",
              "Pedestrians Injured      int64\n",
              "Pedestrians Killed       int64\n",
              "Cyclists Injured         int64\n",
              "Cyclists Killed          int64\n",
              "Motorists Injured        int64\n",
              "Motorists Killed         int64\n",
              "dtype: object"
            ]
          },
          "metadata": {},
          "execution_count": 6
        }
      ]
    },
    {
      "cell_type": "code",
      "source": [
        "slope, intercept, r_value, p_value, std_err = stats.linregress(df['Persons Injured'], df['Persons Injured'])\n",
        "\n",
        "print(f\"Slope (Coefficient for BMI): {slope:.2f}\")\n",
        "print(f\"Intercept: {intercept:.2f}\")\n",
        "print(f\"R-squared value: {r_value**2:.2f}\")\n",
        "print(f\"P-value: {p_value:.5f}\")\n",
        "print(f\"Standard Error: {std_err:.5f}\")"
      ],
      "metadata": {
        "colab": {
          "base_uri": "https://localhost:8080/"
        },
        "id": "Z63gWdg1ijVk",
        "outputId": "7caaee5c-972f-4984-ff3d-6942ecccddc7"
      },
      "execution_count": 7,
      "outputs": [
        {
          "output_type": "stream",
          "name": "stdout",
          "text": [
            "Slope (Coefficient for BMI): nan\n",
            "Intercept: nan\n",
            "R-squared value: nan\n",
            "P-value: nan\n",
            "Standard Error: nan\n"
          ]
        }
      ]
    },
    {
      "cell_type": "code",
      "source": [
        "plt.scatter(df['TotalPopulation'], df['Data_Value'], color='green', label='Data points')\n",
        "plt.plot(df['TotalPopulation'], intercept + slope * df['TotalPopulation'], color='blue', label='Regression line')\n",
        "plt.title('TotalPopulation vs Data_Value')\n",
        "plt.xlabel('TotalPopulation')\n",
        "plt.ylabel('Data_Value')\n",
        "plt.legend()\n",
        "plt.show()"
      ],
      "metadata": {
        "id": "9qxmjTxAinki"
      },
      "execution_count": null,
      "outputs": []
    }
  ]
}