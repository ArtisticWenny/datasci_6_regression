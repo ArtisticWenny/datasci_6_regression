{
  "nbformat": 4,
  "nbformat_minor": 0,
  "metadata": {
    "colab": {
      "provenance": [],
      "authorship_tag": "ABX9TyNBHomo4Bi7GmYiQCXc4Ecx",
      "include_colab_link": true
    },
    "kernelspec": {
      "name": "python3",
      "display_name": "Python 3"
    },
    "language_info": {
      "name": "python"
    }
  },
  "cells": [
    {
      "cell_type": "markdown",
      "metadata": {
        "id": "view-in-github",
        "colab_type": "text"
      },
      "source": [
        "<a href=\"https://colab.research.google.com/github/ArtisticWenny/datasci_6_regression/blob/main/datasci_6_regression.ipynb\" target=\"_parent\"><img src=\"https://colab.research.google.com/assets/colab-badge.svg\" alt=\"Open In Colab\"/></a>"
      ]
    },
    {
      "cell_type": "markdown",
      "source": [
        "LOADING IN PACKAGES AND DATASET\n",
        "---\n",
        "\n"
      ],
      "metadata": {
        "id": "2VB_UV8Mcmzw"
      }
    },
    {
      "cell_type": "code",
      "execution_count": 1,
      "metadata": {
        "id": "__oFyOc9WUGs"
      },
      "outputs": [],
      "source": [
        "import pandas as pd\n",
        "import statsmodels.api as sm\n",
        "import matplotlib.pyplot as plt\n",
        "import seaborn as sns\n",
        "from scipy import stats\n",
        "from sklearn import linear_model\n",
        "from statsmodels.stats.diagnostic import linear_rainbow\n",
        "from scipy.stats import shapiro\n",
        "from statsmodels.stats.diagnostic import het_goldfeldquandt\n",
        "from statsmodels.stats.outliers_influence import variance_inflation_factor\n",
        "from statsmodels.stats.stattools import durbin_watson"
      ]
    },
    {
      "cell_type": "code",
      "source": [
        "from google.colab import drive\n",
        "\n",
        "drive.mount('/content/drive')"
      ],
      "metadata": {
        "colab": {
          "base_uri": "https://localhost:8080/"
        },
        "id": "U3XT_toSWWG6",
        "outputId": "ed8af4ab-3952-4da0-ff05-78a94f0a62b4"
      },
      "execution_count": 2,
      "outputs": [
        {
          "output_type": "stream",
          "name": "stdout",
          "text": [
            "Mounted at /content/drive\n"
          ]
        }
      ]
    },
    {
      "cell_type": "code",
      "source": [
        "csv_file_path = ['/content/drive/MyDrive/Summary of Weather.csv']\n",
        "\n",
        "df = pd.read_csv('/content/drive/MyDrive/Summary of Weather.csv')\n",
        "\n",
        "print(df.head)"
      ],
      "metadata": {
        "colab": {
          "base_uri": "https://localhost:8080/"
        },
        "id": "hSRNL5_WWY73",
        "outputId": "d1e818e7-f849-4107-f600-d4b9fed2de85"
      },
      "execution_count": 3,
      "outputs": [
        {
          "output_type": "stream",
          "name": "stdout",
          "text": [
            "<bound method NDFrame.head of           STA        Date Precip  WindGustSpd    MaxTemp    MinTemp  \\\n",
            "0       10001    1942-7-1  1.016          NaN  25.555556  22.222222   \n",
            "1       10001    1942-7-2      0          NaN  28.888889  21.666667   \n",
            "2       10001    1942-7-3   2.54          NaN  26.111111  22.222222   \n",
            "3       10001    1942-7-4   2.54          NaN  26.666667  22.222222   \n",
            "4       10001    1942-7-5      0          NaN  26.666667  21.666667   \n",
            "...       ...         ...    ...          ...        ...        ...   \n",
            "119035  82506  1945-12-27      0          NaN  28.333333  18.333333   \n",
            "119036  82506  1945-12-28  9.906          NaN  29.444444  18.333333   \n",
            "119037  82506  1945-12-29      0          NaN  28.333333  18.333333   \n",
            "119038  82506  1945-12-30      0          NaN  28.333333  18.333333   \n",
            "119039  82506  1945-12-31      0          NaN  29.444444  17.222222   \n",
            "\n",
            "         MeanTemp Snowfall PoorWeather  YR  ...  FB  FTI ITH  PGT  TSHDSBRSGF  \\\n",
            "0       23.888889      0.0         NaN  42  ... NaN  NaN NaN  NaN         NaN   \n",
            "1       25.555556      0.0         NaN  42  ... NaN  NaN NaN  NaN         NaN   \n",
            "2       24.444444      0.0         NaN  42  ... NaN  NaN NaN  NaN         NaN   \n",
            "3       24.444444      0.0         NaN  42  ... NaN  NaN NaN  NaN         NaN   \n",
            "4       24.444444      0.0         NaN  42  ... NaN  NaN NaN  NaN         NaN   \n",
            "...           ...      ...         ...  ..  ...  ..  ...  ..  ...         ...   \n",
            "119035  23.333333      0.0         NaN  45  ... NaN  NaN NaN  NaN         NaN   \n",
            "119036  23.888889      0.0         1.0  45  ... NaN  NaN NaN  NaN         1.0   \n",
            "119037  23.333333      0.0         1.0  45  ... NaN  NaN NaN  NaN         1.0   \n",
            "119038  23.333333      0.0         NaN  45  ... NaN  NaN NaN  NaN         NaN   \n",
            "119039  23.333333      0.0         NaN  45  ... NaN  NaN NaN  NaN         NaN   \n",
            "\n",
            "        SD3  RHX  RHN RVG  WTE  \n",
            "0       NaN  NaN  NaN NaN  NaN  \n",
            "1       NaN  NaN  NaN NaN  NaN  \n",
            "2       NaN  NaN  NaN NaN  NaN  \n",
            "3       NaN  NaN  NaN NaN  NaN  \n",
            "4       NaN  NaN  NaN NaN  NaN  \n",
            "...     ...  ...  ...  ..  ...  \n",
            "119035  NaN  NaN  NaN NaN  NaN  \n",
            "119036  NaN  NaN  NaN NaN  NaN  \n",
            "119037  NaN  NaN  NaN NaN  NaN  \n",
            "119038  NaN  NaN  NaN NaN  NaN  \n",
            "119039  NaN  NaN  NaN NaN  NaN  \n",
            "\n",
            "[119040 rows x 31 columns]>\n"
          ]
        },
        {
          "output_type": "stream",
          "name": "stderr",
          "text": [
            "<ipython-input-3-e92ce422878f>:3: DtypeWarning: Columns (7,8,18,25) have mixed types. Specify dtype option on import or set low_memory=False.\n",
            "  df = pd.read_csv('/content/drive/MyDrive/Summary of Weather.csv')\n"
          ]
        }
      ]
    },
    {
      "cell_type": "code",
      "source": [
        "csv_file_path = ['/content/drive/MyDrive/Weather Station Locations.csv']\n",
        "\n",
        "df2 = pd.read_csv('/content/drive/MyDrive/Weather Station Locations.csv')\n",
        "\n",
        "print(df2.head)"
      ],
      "metadata": {
        "colab": {
          "base_uri": "https://localhost:8080/"
        },
        "id": "SxeZ1BYrJq1s",
        "outputId": "aea2c98a-3d96-4105-e77a-53c072a26e56"
      },
      "execution_count": 4,
      "outputs": [
        {
          "output_type": "stream",
          "name": "stdout",
          "text": [
            "<bound method NDFrame.head of       WBAN            NAME STATE/COUNTRY ID    LAT     LON  ELEV   Latitude  \\\n",
            "0    33013          AIN EL               AL  3623N  00637E   611  36.383333   \n",
            "1    33031        LA SENIA               AL  3537N  00037E    88  35.616667   \n",
            "2    33023  MAISON BLANCHE               AL  3643N  00314E    23  36.716667   \n",
            "3    33044        TELERGMA               AL  3607N  00621E   754  36.116667   \n",
            "4    12001         TINDOUF               AL  2741N  00809W   443  27.683333   \n",
            "..     ...             ...              ...    ...     ...   ...        ...   \n",
            "156  33109       EL AQUINA               TS  3651N  01015E     4  36.850000   \n",
            "157  33121         EL DJEM               TS  3520N  01040E  9999  35.333333   \n",
            "158  33003      SISI AHMED               TS  3712N  00950E     4  37.200000   \n",
            "159  33307           ADANA               TU  3659N  03518E    20  36.983333   \n",
            "160  15027      WARRINGTON               UK  5323N  00239W    27  53.383333   \n",
            "\n",
            "     Longitude  \n",
            "0     6.650000  \n",
            "1     0.583333  \n",
            "2     3.216667  \n",
            "3     6.416667  \n",
            "4    -8.083333  \n",
            "..         ...  \n",
            "156  10.016667  \n",
            "157  10.066667  \n",
            "158   9.083333  \n",
            "159  35.016667  \n",
            "160  -2.050000  \n",
            "\n",
            "[161 rows x 8 columns]>\n"
          ]
        }
      ]
    },
    {
      "cell_type": "code",
      "source": [
        "df.columns"
      ],
      "metadata": {
        "colab": {
          "base_uri": "https://localhost:8080/"
        },
        "id": "IteJG3fyihFE",
        "outputId": "c425d01a-d96b-4ebd-caa4-0f0019f133a0"
      },
      "execution_count": 5,
      "outputs": [
        {
          "output_type": "execute_result",
          "data": {
            "text/plain": [
              "Index(['STA', 'Date', 'Precip', 'WindGustSpd', 'MaxTemp', 'MinTemp',\n",
              "       'MeanTemp', 'Snowfall', 'PoorWeather', 'YR', 'MO', 'DA', 'PRCP', 'DR',\n",
              "       'SPD', 'MAX', 'MIN', 'MEA', 'SNF', 'SND', 'FT', 'FB', 'FTI', 'ITH',\n",
              "       'PGT', 'TSHDSBRSGF', 'SD3', 'RHX', 'RHN', 'RVG', 'WTE'],\n",
              "      dtype='object')"
            ]
          },
          "metadata": {},
          "execution_count": 5
        }
      ]
    },
    {
      "cell_type": "code",
      "source": [
        "df2.columns"
      ],
      "metadata": {
        "colab": {
          "base_uri": "https://localhost:8080/"
        },
        "id": "OH8Rk-50KFBw",
        "outputId": "0c8cdbc0-5068-4254-fb93-910cc65ee629"
      },
      "execution_count": 6,
      "outputs": [
        {
          "output_type": "execute_result",
          "data": {
            "text/plain": [
              "Index(['WBAN', 'NAME', 'STATE/COUNTRY ID', 'LAT', 'LON', 'ELEV', 'Latitude',\n",
              "       'Longitude'],\n",
              "      dtype='object')"
            ]
          },
          "metadata": {},
          "execution_count": 6
        }
      ]
    },
    {
      "cell_type": "code",
      "source": [
        "df.dtypes"
      ],
      "metadata": {
        "colab": {
          "base_uri": "https://localhost:8080/"
        },
        "id": "12K097iyihzF",
        "outputId": "1b38fc96-4ee5-446c-8537-79d5c325fba5"
      },
      "execution_count": 7,
      "outputs": [
        {
          "output_type": "execute_result",
          "data": {
            "text/plain": [
              "STA              int64\n",
              "Date            object\n",
              "Precip          object\n",
              "WindGustSpd    float64\n",
              "MaxTemp        float64\n",
              "MinTemp        float64\n",
              "MeanTemp       float64\n",
              "Snowfall        object\n",
              "PoorWeather     object\n",
              "YR               int64\n",
              "MO               int64\n",
              "DA               int64\n",
              "PRCP            object\n",
              "DR             float64\n",
              "SPD            float64\n",
              "MAX            float64\n",
              "MIN            float64\n",
              "MEA            float64\n",
              "SNF             object\n",
              "SND            float64\n",
              "FT             float64\n",
              "FB             float64\n",
              "FTI            float64\n",
              "ITH            float64\n",
              "PGT            float64\n",
              "TSHDSBRSGF      object\n",
              "SD3            float64\n",
              "RHX            float64\n",
              "RHN            float64\n",
              "RVG            float64\n",
              "WTE            float64\n",
              "dtype: object"
            ]
          },
          "metadata": {},
          "execution_count": 7
        }
      ]
    },
    {
      "cell_type": "code",
      "source": [
        "df2.dtypes"
      ],
      "metadata": {
        "colab": {
          "base_uri": "https://localhost:8080/"
        },
        "id": "GxgPBSzVKHfq",
        "outputId": "4d4c53ec-7f9a-413f-8891-b436a9d5b8d4"
      },
      "execution_count": 8,
      "outputs": [
        {
          "output_type": "execute_result",
          "data": {
            "text/plain": [
              "WBAN                  int64\n",
              "NAME                 object\n",
              "STATE/COUNTRY ID     object\n",
              "LAT                  object\n",
              "LON                  object\n",
              "ELEV                  int64\n",
              "Latitude            float64\n",
              "Longitude           float64\n",
              "dtype: object"
            ]
          },
          "metadata": {},
          "execution_count": 8
        }
      ]
    },
    {
      "cell_type": "markdown",
      "source": [
        "SIMPLE LINEAR REGRESSION\n",
        "\n",
        "---\n",
        "\n",
        "\n",
        "\n"
      ],
      "metadata": {
        "id": "ZRkcO65wcTj3"
      }
    },
    {
      "cell_type": "code",
      "source": [
        " Fit the regression model\n",
        "# thalach = independent variable(x); chol = dependent variable (y)\n",
        "X = sm.add_constant(df['Precip'])  # Adds a constant term to the predictor\n",
        "model = sm.OLS(df['MeanTemp'], X).fit()"
      ],
      "metadata": {
        "colab": {
          "base_uri": "https://localhost:8080/",
          "height": 143
        },
        "id": "1hh1Z2fwG_JP",
        "outputId": "8439d503-a60f-444b-d543-db168371090d"
      },
      "execution_count": 9,
      "outputs": [
        {
          "output_type": "error",
          "ename": "SyntaxError",
          "evalue": "ignored",
          "traceback": [
            "\u001b[0;36m  File \u001b[0;32m\"<ipython-input-9-dce512748aa4>\"\u001b[0;36m, line \u001b[0;32m1\u001b[0m\n\u001b[0;31m    Fit the regression model\u001b[0m\n\u001b[0m        ^\u001b[0m\n\u001b[0;31mSyntaxError\u001b[0m\u001b[0;31m:\u001b[0m invalid syntax\n"
          ]
        }
      ]
    },
    {
      "cell_type": "code",
      "source": [
        "sns.regplot(data=df, x='Precip', y='MeanTemp')\n"
      ],
      "metadata": {
        "colab": {
          "base_uri": "https://localhost:8080/",
          "height": 741
        },
        "id": "UgaaM0-TH_6Q",
        "outputId": "338d7010-9699-4d91-d2ef-65dfe40286cf"
      },
      "execution_count": 31,
      "outputs": [
        {
          "output_type": "error",
          "ename": "UFuncTypeError",
          "evalue": "ignored",
          "traceback": [
            "\u001b[0;31m---------------------------------------------------------------------------\u001b[0m",
            "\u001b[0;31mUFuncTypeError\u001b[0m                            Traceback (most recent call last)",
            "\u001b[0;32m<ipython-input-31-91bb18415bc9>\u001b[0m in \u001b[0;36m<cell line: 1>\u001b[0;34m()\u001b[0m\n\u001b[0;32m----> 1\u001b[0;31m \u001b[0msns\u001b[0m\u001b[0;34m.\u001b[0m\u001b[0mregplot\u001b[0m\u001b[0;34m(\u001b[0m\u001b[0mdata\u001b[0m\u001b[0;34m=\u001b[0m\u001b[0mdf\u001b[0m\u001b[0;34m,\u001b[0m \u001b[0mx\u001b[0m\u001b[0;34m=\u001b[0m\u001b[0;34m'Precip'\u001b[0m\u001b[0;34m,\u001b[0m \u001b[0my\u001b[0m\u001b[0;34m=\u001b[0m\u001b[0;34m'MeanTemp'\u001b[0m\u001b[0;34m)\u001b[0m\u001b[0;34m\u001b[0m\u001b[0;34m\u001b[0m\u001b[0m\n\u001b[0m",
            "\u001b[0;32m/usr/local/lib/python3.10/dist-packages/seaborn/regression.py\u001b[0m in \u001b[0;36mregplot\u001b[0;34m(data, x, y, x_estimator, x_bins, x_ci, scatter, fit_reg, ci, n_boot, units, seed, order, logistic, lowess, robust, logx, x_partial, y_partial, truncate, dropna, x_jitter, y_jitter, label, color, marker, scatter_kws, line_kws, ax)\u001b[0m\n\u001b[1;32m    757\u001b[0m     \u001b[0mscatter_kws\u001b[0m\u001b[0;34m[\u001b[0m\u001b[0;34m\"marker\"\u001b[0m\u001b[0;34m]\u001b[0m \u001b[0;34m=\u001b[0m \u001b[0mmarker\u001b[0m\u001b[0;34m\u001b[0m\u001b[0;34m\u001b[0m\u001b[0m\n\u001b[1;32m    758\u001b[0m     \u001b[0mline_kws\u001b[0m \u001b[0;34m=\u001b[0m \u001b[0;34m{\u001b[0m\u001b[0;34m}\u001b[0m \u001b[0;32mif\u001b[0m \u001b[0mline_kws\u001b[0m \u001b[0;32mis\u001b[0m \u001b[0;32mNone\u001b[0m \u001b[0;32melse\u001b[0m \u001b[0mcopy\u001b[0m\u001b[0;34m.\u001b[0m\u001b[0mcopy\u001b[0m\u001b[0;34m(\u001b[0m\u001b[0mline_kws\u001b[0m\u001b[0;34m)\u001b[0m\u001b[0;34m\u001b[0m\u001b[0;34m\u001b[0m\u001b[0m\n\u001b[0;32m--> 759\u001b[0;31m     \u001b[0mplotter\u001b[0m\u001b[0;34m.\u001b[0m\u001b[0mplot\u001b[0m\u001b[0;34m(\u001b[0m\u001b[0max\u001b[0m\u001b[0;34m,\u001b[0m \u001b[0mscatter_kws\u001b[0m\u001b[0;34m,\u001b[0m \u001b[0mline_kws\u001b[0m\u001b[0;34m)\u001b[0m\u001b[0;34m\u001b[0m\u001b[0;34m\u001b[0m\u001b[0m\n\u001b[0m\u001b[1;32m    760\u001b[0m     \u001b[0;32mreturn\u001b[0m \u001b[0max\u001b[0m\u001b[0;34m\u001b[0m\u001b[0;34m\u001b[0m\u001b[0m\n\u001b[1;32m    761\u001b[0m \u001b[0;34m\u001b[0m\u001b[0m\n",
            "\u001b[0;32m/usr/local/lib/python3.10/dist-packages/seaborn/regression.py\u001b[0m in \u001b[0;36mplot\u001b[0;34m(self, ax, scatter_kws, line_kws)\u001b[0m\n\u001b[1;32m    366\u001b[0m \u001b[0;34m\u001b[0m\u001b[0m\n\u001b[1;32m    367\u001b[0m         \u001b[0;32mif\u001b[0m \u001b[0mself\u001b[0m\u001b[0;34m.\u001b[0m\u001b[0mfit_reg\u001b[0m\u001b[0;34m:\u001b[0m\u001b[0;34m\u001b[0m\u001b[0;34m\u001b[0m\u001b[0m\n\u001b[0;32m--> 368\u001b[0;31m             \u001b[0mself\u001b[0m\u001b[0;34m.\u001b[0m\u001b[0mlineplot\u001b[0m\u001b[0;34m(\u001b[0m\u001b[0max\u001b[0m\u001b[0;34m,\u001b[0m \u001b[0mline_kws\u001b[0m\u001b[0;34m)\u001b[0m\u001b[0;34m\u001b[0m\u001b[0;34m\u001b[0m\u001b[0m\n\u001b[0m\u001b[1;32m    369\u001b[0m \u001b[0;34m\u001b[0m\u001b[0m\n\u001b[1;32m    370\u001b[0m         \u001b[0;31m# Label the axes\u001b[0m\u001b[0;34m\u001b[0m\u001b[0;34m\u001b[0m\u001b[0m\n",
            "\u001b[0;32m/usr/local/lib/python3.10/dist-packages/seaborn/regression.py\u001b[0m in \u001b[0;36mlineplot\u001b[0;34m(self, ax, kws)\u001b[0m\n\u001b[1;32m    411\u001b[0m         \u001b[0;34m\"\"\"Draw the model.\"\"\"\u001b[0m\u001b[0;34m\u001b[0m\u001b[0;34m\u001b[0m\u001b[0m\n\u001b[1;32m    412\u001b[0m         \u001b[0;31m# Fit the regression model\u001b[0m\u001b[0;34m\u001b[0m\u001b[0;34m\u001b[0m\u001b[0m\n\u001b[0;32m--> 413\u001b[0;31m         \u001b[0mgrid\u001b[0m\u001b[0;34m,\u001b[0m \u001b[0myhat\u001b[0m\u001b[0;34m,\u001b[0m \u001b[0merr_bands\u001b[0m \u001b[0;34m=\u001b[0m \u001b[0mself\u001b[0m\u001b[0;34m.\u001b[0m\u001b[0mfit_regression\u001b[0m\u001b[0;34m(\u001b[0m\u001b[0max\u001b[0m\u001b[0;34m)\u001b[0m\u001b[0;34m\u001b[0m\u001b[0;34m\u001b[0m\u001b[0m\n\u001b[0m\u001b[1;32m    414\u001b[0m         \u001b[0medges\u001b[0m \u001b[0;34m=\u001b[0m \u001b[0mgrid\u001b[0m\u001b[0;34m[\u001b[0m\u001b[0;36m0\u001b[0m\u001b[0;34m]\u001b[0m\u001b[0;34m,\u001b[0m \u001b[0mgrid\u001b[0m\u001b[0;34m[\u001b[0m\u001b[0;34m-\u001b[0m\u001b[0;36m1\u001b[0m\u001b[0;34m]\u001b[0m\u001b[0;34m\u001b[0m\u001b[0;34m\u001b[0m\u001b[0m\n\u001b[1;32m    415\u001b[0m \u001b[0;34m\u001b[0m\u001b[0m\n",
            "\u001b[0;32m/usr/local/lib/python3.10/dist-packages/seaborn/regression.py\u001b[0m in \u001b[0;36mfit_regression\u001b[0;34m(self, ax, x_range, grid)\u001b[0m\n\u001b[1;32m    197\u001b[0m                 \u001b[0;32melse\u001b[0m\u001b[0;34m:\u001b[0m\u001b[0;34m\u001b[0m\u001b[0;34m\u001b[0m\u001b[0m\n\u001b[1;32m    198\u001b[0m                     \u001b[0mx_min\u001b[0m\u001b[0;34m,\u001b[0m \u001b[0mx_max\u001b[0m \u001b[0;34m=\u001b[0m \u001b[0max\u001b[0m\u001b[0;34m.\u001b[0m\u001b[0mget_xlim\u001b[0m\u001b[0;34m(\u001b[0m\u001b[0;34m)\u001b[0m\u001b[0;34m\u001b[0m\u001b[0;34m\u001b[0m\u001b[0m\n\u001b[0;32m--> 199\u001b[0;31m             \u001b[0mgrid\u001b[0m \u001b[0;34m=\u001b[0m \u001b[0mnp\u001b[0m\u001b[0;34m.\u001b[0m\u001b[0mlinspace\u001b[0m\u001b[0;34m(\u001b[0m\u001b[0mx_min\u001b[0m\u001b[0;34m,\u001b[0m \u001b[0mx_max\u001b[0m\u001b[0;34m,\u001b[0m \u001b[0;36m100\u001b[0m\u001b[0;34m)\u001b[0m\u001b[0;34m\u001b[0m\u001b[0;34m\u001b[0m\u001b[0m\n\u001b[0m\u001b[1;32m    200\u001b[0m         \u001b[0mci\u001b[0m \u001b[0;34m=\u001b[0m \u001b[0mself\u001b[0m\u001b[0;34m.\u001b[0m\u001b[0mci\u001b[0m\u001b[0;34m\u001b[0m\u001b[0;34m\u001b[0m\u001b[0m\n\u001b[1;32m    201\u001b[0m \u001b[0;34m\u001b[0m\u001b[0m\n",
            "\u001b[0;32m/usr/local/lib/python3.10/dist-packages/numpy/core/overrides.py\u001b[0m in \u001b[0;36mlinspace\u001b[0;34m(*args, **kwargs)\u001b[0m\n",
            "\u001b[0;32m/usr/local/lib/python3.10/dist-packages/numpy/core/function_base.py\u001b[0m in \u001b[0;36mlinspace\u001b[0;34m(start, stop, num, endpoint, retstep, dtype, axis)\u001b[0m\n\u001b[1;32m    125\u001b[0m     \u001b[0;31m# Convert float/complex array scalars to float, gh-3504\u001b[0m\u001b[0;34m\u001b[0m\u001b[0;34m\u001b[0m\u001b[0m\n\u001b[1;32m    126\u001b[0m     \u001b[0;31m# and make sure one can use variables that have an __array_interface__, gh-6634\u001b[0m\u001b[0;34m\u001b[0m\u001b[0;34m\u001b[0m\u001b[0m\n\u001b[0;32m--> 127\u001b[0;31m     \u001b[0mstart\u001b[0m \u001b[0;34m=\u001b[0m \u001b[0masanyarray\u001b[0m\u001b[0;34m(\u001b[0m\u001b[0mstart\u001b[0m\u001b[0;34m)\u001b[0m \u001b[0;34m*\u001b[0m \u001b[0;36m1.0\u001b[0m\u001b[0;34m\u001b[0m\u001b[0;34m\u001b[0m\u001b[0m\n\u001b[0m\u001b[1;32m    128\u001b[0m     \u001b[0mstop\u001b[0m  \u001b[0;34m=\u001b[0m \u001b[0masanyarray\u001b[0m\u001b[0;34m(\u001b[0m\u001b[0mstop\u001b[0m\u001b[0;34m)\u001b[0m  \u001b[0;34m*\u001b[0m \u001b[0;36m1.0\u001b[0m\u001b[0;34m\u001b[0m\u001b[0;34m\u001b[0m\u001b[0m\n\u001b[1;32m    129\u001b[0m \u001b[0;34m\u001b[0m\u001b[0m\n",
            "\u001b[0;31mUFuncTypeError\u001b[0m: ufunc 'multiply' did not contain a loop with signature matching types (dtype('<U1'), dtype('float64')) -> None"
          ]
        },
        {
          "output_type": "display_data",
          "data": {
            "text/plain": [
              "<Figure size 640x480 with 1 Axes>"
            ],
            "image/png": "[encoded data removed]"
          },
          "metadata": {}
        }
      ]
    },
    {
      "cell_type": "code",
      "source": [
        "# Extract model parameters\n",
        "slope = model.params['Precip']\n",
        "intercept = model.params['MeanTemp']\n",
        "r_squared = model.rsquared\n",
        "\n",
        "# Display results\n",
        "print(f\"Slope (Coefficient for Precip): {slope:.2f}\")\n",
        "print(f\"Intercept: {intercept:.2f}\")\n",
        "print(f\"R-squared value: {r_squared:.2f}\")\n",
        "\n",
        "# For a detailed summary:\n",
        "print(model.summary())\n"
      ],
      "metadata": {
        "id": "Ly1Hcef8LDa_"
      },
      "execution_count": null,
      "outputs": []
    },
    {
      "cell_type": "markdown",
      "source": [
        "ASSUMPTIONS"
      ],
      "metadata": {
        "id": "_NkzYOgacc9h"
      }
    },
    {
      "cell_type": "code",
      "source": [
        "residuals = model.resid\n",
        "fitted = model.fittedvalues"
      ],
      "metadata": {
        "id": "Xrqf1U7gckhm"
      },
      "execution_count": null,
      "outputs": []
    },
    {
      "cell_type": "code",
      "source": [
        "W, p_value = shapiro(residuals)\n",
        "print(f\"Shapiro-Wilk Test: W={W}, p-value={p_value}\")"
      ],
      "metadata": {
        "id": "t5J-Cxk9cwFY"
      },
      "execution_count": null,
      "outputs": []
    },
    {
      "cell_type": "markdown",
      "source": [
        "MULTIPLE LINEAR REGRESSION"
      ],
      "metadata": {
        "id": "lBxWDqvqdBN_"
      }
    },
    {
      "cell_type": "code",
      "source": [
        "X = df2[['LAT', 'LON','ELEV']]\n",
        "X = sm.add_constant(X)\n",
        "y = df['PoorWeather']\n",
        "model2 = sm.OLS(y, X)\n",
        "results = model2.fit()"
      ],
      "metadata": {
        "id": "TNkRXkr8dF3g"
      },
      "execution_count": null,
      "outputs": []
    }
  ]
}